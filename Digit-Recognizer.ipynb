{
 "cells": [
  {
   "cell_type": "code",
   "execution_count": 1,
   "metadata": {},
   "outputs": [],
   "source": [
    "#Digit reader using MNIST and convolution neural networks\n",
    "import pickle\n",
    "import gzip\n",
    "import numpy as np\n",
    "from scipy.ndimage import imread\n",
    "import cv2\n",
    "import sklearn.utils\n",
    "\n",
    "DATA_SET = 'mnist.pkl.gz'"
   ]
  },
  {
   "cell_type": "code",
   "execution_count": 2,
   "metadata": {
    "scrolled": true
   },
   "outputs": [
    {
     "name": "stderr",
     "output_type": "stream",
     "text": [
      "Using TensorFlow backend.\n"
     ]
    },
    {
     "name": "stdout",
     "output_type": "stream",
     "text": [
      "(50000, 28, 28, 1)\n",
      "(50000, 10)\n",
      "[ 0.98828125]\n"
     ]
    }
   ],
   "source": [
    "from keras.utils import to_categorical\n",
    "#Data modification\n",
    "f = gzip.open(DATA_SET, 'rb')\n",
    "train_set, validation_set, test_set = pickle.load(f, encoding = 'latin1')\n",
    "f.close()\n",
    "\n",
    "train_x = train_set[0]\n",
    "train_y = train_set[1]\n",
    "test_x = test_set[0]\n",
    "test_y = test_set[1]\n",
    "val_x = validation_set[0]\n",
    "val_y = validation_set[1]\n",
    "\n",
    "#Resize train_x and test_x to be square np arrays instead of flat\n",
    "train_x.resize((len(train_x), 28, 28, 1))\n",
    "test_x.resize((len(test_x), 28, 28, 1))\n",
    "val_x.resize((len(val_y), 28, 28, 1))\n",
    "\n",
    "#Categorize Y data\n",
    "train_y_cat = to_categorical(train_y, num_classes=10)\n",
    "test_y_cat = to_categorical(test_y, num_classes=10)\n",
    "val_y_cat = to_categorical(val_y, num_classes=10)\n",
    "print (train_x.shape)\n",
    "print (train_y_cat.shape)\n",
    "\n",
    "validation_data = (val_x, val_y_cat)\n",
    "\n",
    "print (train_x[7][14][14])"
   ]
  },
  {
   "cell_type": "code",
   "execution_count": 3,
   "metadata": {},
   "outputs": [],
   "source": [
    "#Create convolutional neural net from keras\n",
    "from keras.models import Sequential\n",
    "from keras.layers import Dense, Conv2D, Activation, MaxPooling2D, Dropout, Flatten, BatchNormalization\n",
    "from keras import optimizers\n",
    "from keras import regularizers"
   ]
  },
  {
   "cell_type": "code",
   "execution_count": 4,
   "metadata": {},
   "outputs": [
    {
     "name": "stdout",
     "output_type": "stream",
     "text": [
      "(50000, 28, 28, 1)\n"
     ]
    }
   ],
   "source": [
    "model = Sequential()\n",
    "print (train_x.shape)\n",
    "\n",
    "model.add(Conv2D(input_shape = [28, 28, 1], filters = 128, kernel_size=3, \n",
    "                activation='relu', data_format=\"channels_last\"))\n",
    "\n",
    "model.add(Conv2D(filters = 128, kernel_size=3,\n",
    "                activation='relu'))\n",
    "\n",
    "model.add(MaxPooling2D(pool_size=2))\n",
    "\n",
    "model.add(Conv2D(filters = 64, kernel_size=2,\n",
    "                activation='relu'))\n",
    "model.add(Conv2D(filters = 64, kernel_size=2,\n",
    "                activation='relu'))\n",
    "\n",
    "model.add(Flatten())\n",
    "\n",
    "model.add(Dense(128))\n",
    "\n",
    "model.add(Dense(10, activation='softmax'))\n",
    "\n",
    "optimizer = 'RMSProp'\n",
    "loss = 'binary_crossentropy'\n",
    "model.compile(loss=loss, optimizer=optimizer, metrics=['accuracy'])"
   ]
  },
  {
   "cell_type": "code",
   "execution_count": 5,
   "metadata": {},
   "outputs": [
    {
     "name": "stdout",
     "output_type": "stream",
     "text": [
      "_________________________________________________________________\n",
      "Layer (type)                 Output Shape              Param #   \n",
      "=================================================================\n",
      "conv2d_1 (Conv2D)            (None, 26, 26, 128)       1280      \n",
      "_________________________________________________________________\n",
      "conv2d_2 (Conv2D)            (None, 24, 24, 128)       147584    \n",
      "_________________________________________________________________\n",
      "max_pooling2d_1 (MaxPooling2 (None, 12, 12, 128)       0         \n",
      "_________________________________________________________________\n",
      "conv2d_3 (Conv2D)            (None, 11, 11, 64)        32832     \n",
      "_________________________________________________________________\n",
      "conv2d_4 (Conv2D)            (None, 10, 10, 64)        16448     \n",
      "_________________________________________________________________\n",
      "flatten_1 (Flatten)          (None, 6400)              0         \n",
      "_________________________________________________________________\n",
      "dense_1 (Dense)              (None, 128)               819328    \n",
      "_________________________________________________________________\n",
      "dense_2 (Dense)              (None, 10)                1290      \n",
      "=================================================================\n",
      "Total params: 1,018,762\n",
      "Trainable params: 1,018,762\n",
      "Non-trainable params: 0\n",
      "_________________________________________________________________\n"
     ]
    }
   ],
   "source": [
    "model.summary()"
   ]
  },
  {
   "cell_type": "code",
   "execution_count": 6,
   "metadata": {
    "scrolled": true
   },
   "outputs": [
    {
     "name": "stdout",
     "output_type": "stream",
     "text": [
      "Train on 50000 samples, validate on 10000 samples\n",
      "Epoch 1/5\n",
      "50000/50000 [==============================] - 68s 1ms/step - loss: 0.0285 - acc: 0.9903 - val_loss: 0.0144 - val_acc: 0.9955\n",
      "Epoch 2/5\n",
      "50000/50000 [==============================] - 71s 1ms/step - loss: 0.0090 - acc: 0.9970 - val_loss: 0.0074 - val_acc: 0.9976\n",
      "Epoch 3/5\n",
      "50000/50000 [==============================] - 68s 1ms/step - loss: 0.0062 - acc: 0.9980 - val_loss: 0.0073 - val_acc: 0.9976\n",
      "Epoch 4/5\n",
      "50000/50000 [==============================] - 72s 1ms/step - loss: 0.0047 - acc: 0.9985 - val_loss: 0.0070 - val_acc: 0.9979 2s - loss: 0\n",
      "Epoch 5/5\n",
      "50000/50000 [==============================] - 61s 1ms/step - loss: 0.0038 - acc: 0.9988 - val_loss: 0.0071 - val_acc: 0.9980\n"
     ]
    },
    {
     "data": {
      "text/plain": [
       "<keras.callbacks.History at 0x1e9b0602f98>"
      ]
     },
     "execution_count": 6,
     "metadata": {},
     "output_type": "execute_result"
    }
   ],
   "source": [
    "#Some hyper parameters to tune\n",
    "EPOCHS = 5\n",
    "BATCH_SIZE = 100\n",
    "\n",
    "model.fit(train_x, train_y_cat, epochs=EPOCHS, batch_size=BATCH_SIZE,\n",
    "         validation_data=validation_data, verbose=True, shuffle=True) #Check to use validation data"
   ]
  },
  {
   "cell_type": "code",
   "execution_count": 8,
   "metadata": {
    "scrolled": false
   },
   "outputs": [
    {
     "name": "stdout",
     "output_type": "stream",
     "text": [
      "10000/10000 [==============================] - 4s 351us/step\n",
      "Loss of \n",
      "\n",
      "Accuracy of 99.85% \n"
     ]
    }
   ],
   "source": [
    "#Evaluate the efficacy of the model\n",
    "loss, acc = model.evaluate(test_x, test_y_cat, \n",
    "                           batch_size=BATCH_SIZE)\n",
    "print('Loss of ')\n",
    "print('')\n",
    "print('Accuracy of %.2f%% ' % (acc * 100.))\n"
   ]
  },
  {
   "cell_type": "code",
   "execution_count": 43,
   "metadata": {},
   "outputs": [
    {
     "name": "stdout",
     "output_type": "stream",
     "text": [
      "[  2.65754107e-12   1.41304234e-11   7.66644845e-08   1.41609062e-08\n",
      "   4.31656291e-15   1.77998973e-13   5.97035805e-17   9.99999881e-01\n",
      "   2.61604644e-11   1.82759197e-10]\n"
     ]
    }
   ],
   "source": [
    "predictions = model.predict(test_x)\n",
    "import matplotlib.pyplot as plt\n",
    "def make_number(pred):\n",
    "    for ind in range(len(pred)):\n",
    "        if pred[ind] > .6:\n",
    "            return ind\n",
    "print (predictions[0])"
   ]
  },
  {
   "cell_type": "code",
   "execution_count": 45,
   "metadata": {},
   "outputs": [
    {
     "name": "stdout",
     "output_type": "stream",
     "text": [
      "Image 322\n",
      "Guessed it was: \n"
     ]
    },
    {
     "ename": "TypeError",
     "evalue": "unsupported operand type(s) for +: 'NoneType' and 'str'",
     "output_type": "error",
     "traceback": [
      "\u001b[1;31m---------------------------------------------------------------------------\u001b[0m",
      "\u001b[1;31mTypeError\u001b[0m                                 Traceback (most recent call last)",
      "\u001b[1;32m<ipython-input-45-1fcb37c0306d>\u001b[0m in \u001b[0;36m<module>\u001b[1;34m()\u001b[0m\n\u001b[0;32m      4\u001b[0m     \u001b[1;32mif\u001b[0m\u001b[1;33m(\u001b[0m\u001b[0mmake_number\u001b[0m\u001b[1;33m(\u001b[0m\u001b[0mpredictions\u001b[0m\u001b[1;33m[\u001b[0m\u001b[0mi\u001b[0m\u001b[1;33m]\u001b[0m\u001b[1;33m)\u001b[0m \u001b[1;33m!=\u001b[0m \u001b[0mtest_y\u001b[0m\u001b[1;33m[\u001b[0m\u001b[0mi\u001b[0m\u001b[1;33m]\u001b[0m\u001b[1;33m)\u001b[0m\u001b[1;33m:\u001b[0m\u001b[1;33m\u001b[0m\u001b[0m\n\u001b[0;32m      5\u001b[0m         \u001b[0mprint\u001b[0m \u001b[1;33m(\u001b[0m\u001b[1;33m(\u001b[0m\u001b[1;34m\"Image \"\u001b[0m\u001b[1;33m)\u001b[0m \u001b[1;33m+\u001b[0m \u001b[0mstr\u001b[0m\u001b[1;33m(\u001b[0m\u001b[0mi\u001b[0m\u001b[1;33m+\u001b[0m\u001b[1;36m1\u001b[0m\u001b[1;33m)\u001b[0m\u001b[1;33m)\u001b[0m\u001b[1;33m\u001b[0m\u001b[0m\n\u001b[1;32m----> 6\u001b[1;33m         \u001b[0mprint\u001b[0m \u001b[1;33m(\u001b[0m\u001b[1;34m\"Guessed it was: \"\u001b[0m\u001b[1;33m)\u001b[0m \u001b[1;33m+\u001b[0m \u001b[0mstr\u001b[0m\u001b[1;33m(\u001b[0m\u001b[1;33m(\u001b[0m\u001b[0mmake_number\u001b[0m\u001b[1;33m(\u001b[0m\u001b[0mpredictions\u001b[0m\u001b[1;33m[\u001b[0m\u001b[0mi\u001b[0m\u001b[1;33m]\u001b[0m\u001b[1;33m)\u001b[0m\u001b[1;33m)\u001b[0m\u001b[1;33m)\u001b[0m\u001b[1;33m\u001b[0m\u001b[0m\n\u001b[0m\u001b[0;32m      7\u001b[0m         \u001b[0mprint\u001b[0m \u001b[1;33m(\u001b[0m\u001b[1;34m\"Was actually: \"\u001b[0m\u001b[1;33m)\u001b[0m \u001b[1;33m+\u001b[0m \u001b[0mstr\u001b[0m\u001b[1;33m(\u001b[0m\u001b[0mtest_y\u001b[0m\u001b[1;33m[\u001b[0m\u001b[0mi\u001b[0m\u001b[1;33m]\u001b[0m\u001b[1;33m)\u001b[0m\u001b[1;33m\u001b[0m\u001b[0m\n\u001b[0;32m      8\u001b[0m         \u001b[0mplt\u001b[0m\u001b[1;33m.\u001b[0m\u001b[0mimshow\u001b[0m\u001b[1;33m(\u001b[0m\u001b[0mtest_x\u001b[0m\u001b[1;33m[\u001b[0m\u001b[0mi\u001b[0m\u001b[1;33m]\u001b[0m\u001b[1;33m.\u001b[0m\u001b[0mreshape\u001b[0m\u001b[1;33m(\u001b[0m\u001b[1;33m(\u001b[0m\u001b[1;36m28\u001b[0m\u001b[1;33m,\u001b[0m \u001b[1;36m28\u001b[0m\u001b[1;33m)\u001b[0m\u001b[1;33m)\u001b[0m\u001b[1;33m,\u001b[0m \u001b[0mcmap\u001b[0m\u001b[1;33m=\u001b[0m\u001b[0mplt\u001b[0m\u001b[1;33m.\u001b[0m\u001b[0mget_cmap\u001b[0m\u001b[1;33m(\u001b[0m\u001b[1;34m'gray'\u001b[0m\u001b[1;33m)\u001b[0m\u001b[1;33m)\u001b[0m\u001b[1;33m\u001b[0m\u001b[0m\n",
      "\u001b[1;31mTypeError\u001b[0m: unsupported operand type(s) for +: 'NoneType' and 'str'"
     ]
    }
   ],
   "source": [
    "#Print pictures it is getting wrong\n",
    "\n",
    "for i in range(400):\n",
    "    if(make_number(predictions[i]) != test_y[i]):\n",
    "        print ((\"Image \") + str(i+1))\n",
    "        print (\"Guessed it was: \") + str((make_number(predictions[i])))\n",
    "        print (\"Was actually: \") + str(test_y[i])\n",
    "        plt.imshow(test_x[i].reshape((28, 28)), cmap=plt.get_cmap('gray'))\n",
    "        plt.show()"
   ]
  },
  {
   "cell_type": "code",
   "execution_count": null,
   "metadata": {},
   "outputs": [],
   "source": []
  }
 ],
 "metadata": {
  "kernelspec": {
   "display_name": "Python 3",
   "language": "python",
   "name": "python3"
  },
  "language_info": {
   "codemirror_mode": {
    "name": "ipython",
    "version": 3
   },
   "file_extension": ".py",
   "mimetype": "text/x-python",
   "name": "python",
   "nbconvert_exporter": "python",
   "pygments_lexer": "ipython3",
   "version": "3.5.4"
  }
 },
 "nbformat": 4,
 "nbformat_minor": 2
}
